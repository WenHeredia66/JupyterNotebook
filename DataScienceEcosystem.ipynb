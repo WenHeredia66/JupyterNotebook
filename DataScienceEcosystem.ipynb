  {
   "cell_type": "markdown",
   "id": "8157776d-e0b2-4c2f-8270-5be4d1c596c1",
   "metadata": {},
   "source": [
    "# Data Science Tools and Ecosystem\n",
    "In this notebook, Data Science Tools and Ecosystem are summarized.\n",
    "Some of the popular languages that Data Scientists use are: Julia, R, Python, SQL."
   ]
  },
  {
   "cell_type": "markdown",
   "id": "a4de373f-ebee-4dff-b25c-e2648a7245ca",
   "metadata": {},
   "source": [
    "**Objectives:**\n",
    "- List some languages of data science\n",
    "- List some popular libraries in data science\n",
    "- Create titles\n",
    "- Create a table in a markdown cell\n",
    "- Create arithmetic expressions"
   ]
  },
  {
   "cell_type": "code",
   "execution_count": 4,
   "id": "b0c58b1f-5e58-4457-9797-796f36d2df6b",
   "metadata": {},
   "outputs": [
    {
     "name": "stdout",
     "output_type": "stream",
     "text": [
      "['Julia', 'Python', 'R', 'SQL']\n"
     ]
    }
   ],
   "source": [
    "# creating a list of languages:\n",
    "items = [\"Julia\", \"R\", \"Python\", \"SQL\"]\n",
    "\n",
    "#sorting alphabetically:\n",
    "sorted_items = sorted(items)\n",
    "print(sorted_items)"
   ]
  },
  {
   "cell_type": "markdown",
   "id": "b4a19d59-bee7-4b71-876e-8793eac00ee3",
   "metadata": {},
   "source": [
    "Some of the commonly used libraries used by Data Scientists include: ggplot, dplyr, stringr, caret"
   ]
  },
  {
   "cell_type": "code",
   "execution_count": 6,
   "id": "64ff6fc0-5d99-4c58-826e-6630efb00775",
   "metadata": {},
   "outputs": [
    {
     "name": "stdout",
     "output_type": "stream",
     "text": [
      "['caret', 'dplyr', 'ggplot', 'stringr']\n"
     ]
    }
   ],
   "source": [
    "items_1 = [\"ggplot\", \"dplyr\", \"stringr\", \"caret\"]\n",
    "\n",
    "#sorting alphabetically:\n",
    "sorted_items_1 = sorted(items_1)\n",
    "print(sorted_items_1)"
   ]
  },
  {
   "cell_type": "markdown",
   "id": "a4cdf6a5-d895-4e14-8d1b-ca7a3a660c64",
   "metadata": {},
   "source": [
    "| Data Science Tools |\n",
    "|-----------|\n",
    "| Apache Hadoop | \n",
    "| IBM Model Asset Exchange (MAX)| \n",
    "| PostgreSQL | \n",
    "| GitHub |\n"
   ]
  },
  {
   "cell_type": "markdown",
   "id": "e2f4d61a-740e-47d9-8324-687908f9dca6",
   "metadata": {},
   "source": [
    "### Below are a few examples of evaluating arithmetic expressions in Python"
   ]
  },
  {
   "cell_type": "code",
   "execution_count": 7,
   "id": "91853def-5180-4bbb-b852-db915bc6fbb0",
   "metadata": {},
   "outputs": [
    {
     "data": {
      "text/plain": [
       "17"
      ]
     },
     "execution_count": 7,
     "metadata": {},
     "output_type": "execute_result"
    }
   ],
   "source": [
    "# This a simple arithmetic expression to mutiply then add integers\n",
    "(3*4)+5\n"
   ]
  },
  {
   "cell_type": "code",
   "execution_count": 8,
   "id": "71f5f135-015b-434e-a1db-9c6bf3a0e6c5",
   "metadata": {},
   "outputs": [
    {
     "data": {
      "text/plain": [
       "3.3333333333333335"
      ]
     },
     "execution_count": 8,
     "metadata": {},
     "output_type": "execute_result"
    }
   ],
   "source": [
    "# This will convert 200 minutes to hours by diving by 60\n",
    "200/60"
   ]
  },
  {
   "cell_type": "markdown",
   "id": "c3fe9e35-ac6f-4c36-b3b4-c4ef4dc09886",
   "metadata": {},
   "source": [
    "## Author\n",
    "Wendy Heredia Borja"
   ]
  }
 ],
 "metadata": {
  "kernelspec": {
   "display_name": "Python 3 (ipykernel)",
   "language": "python",
   "name": "python3"
  },
  "language_info": {
   "codemirror_mode": {
    "name": "ipython",
    "version": 3
   },
   "file_extension": ".py",
   "mimetype": "text/x-python",
   "name": "python",
   "nbconvert_exporter": "python",
   "pygments_lexer": "ipython3",
   "version": "3.12.7"
  }
 },
 "nbformat": 4,
 "nbformat_minor": 5
}
